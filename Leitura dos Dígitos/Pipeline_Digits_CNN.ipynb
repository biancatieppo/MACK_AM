{
 "cells": [
  {
   "cell_type": "markdown",
   "id": "8dbcb2b5",
   "metadata": {},
   "source": [
    "## UNIVERSIDADE PRESBITERIANA MACKENZIE\n",
    "#### Nome: Bianca Tieppo\n",
    "#### TIA: 722.0865-1"
   ]
  },
  {
   "cell_type": "markdown",
   "id": "7619cb49",
   "metadata": {},
   "source": [
    "## PIPELINE | DATASET DIGITS (NIST)\n",
    "#### Classificação dos dígitos com CNN"
   ]
  },
  {
   "cell_type": "code",
   "execution_count": 2,
   "id": "3f43cf10",
   "metadata": {},
   "outputs": [],
   "source": [
    "# Importando as bibliotecas padrões\n",
    "import os\n",
    "import matplotlib.pyplot as plt\n",
    "import numpy as np\n",
    "import pandas as pd\n",
    "\n",
    "# Importando os datasets e as bibliotecas de métricas de performance\n",
    "from sklearn import datasets, metrics\n",
    "from sklearn.model_selection import train_test_split\n",
    "import tensorflow as tf"
   ]
  },
  {
   "cell_type": "markdown",
   "id": "237ed3d3",
   "metadata": {},
   "source": [
    "### Importação do conjunto de dados e divisão em dados de treinamento e teste"
   ]
  },
  {
   "cell_type": "code",
   "execution_count": 3,
   "id": "9a4e82e0",
   "metadata": {},
   "outputs": [],
   "source": [
    "mnist = tf.keras.datasets.fashion_mnist.load_data()\n",
    "\n",
    "# Divisão dos dados em 80% de dados de treinamento e 20% de dados de teste\n",
    "(X_train_full, y_train_full), (X_test, y_test) = mnist\n",
    "\n",
    "# Transformação dos dados em um intervalo de 0 a 1\n",
    "X_train_full = np.expand_dims(X_train_full, axis=-1).astype(np.float32) / 255\n",
    "X_test = np.expand_dims(X_test.astype(np.float32), axis=-1) / 255\n",
    "\n",
    "X_train, X_valid = X_train_full[:-10000], X_train_full[-10000:]\n",
    "y_train, y_valid = y_train_full[:-10000], y_train_full[-10000:]"
   ]
  },
  {
   "cell_type": "code",
   "execution_count": 4,
   "id": "197ad71f",
   "metadata": {},
   "outputs": [
    {
     "data": {
      "text/plain": [
       "(50000, 28, 28, 1)"
      ]
     },
     "execution_count": 4,
     "metadata": {},
     "output_type": "execute_result"
    }
   ],
   "source": [
    "X_train.shape"
   ]
  },
  {
   "cell_type": "code",
   "execution_count": 5,
   "id": "5e1dcb1f",
   "metadata": {},
   "outputs": [
    {
     "data": {
      "text/plain": [
       "(10000, 28, 28, 1)"
      ]
     },
     "execution_count": 5,
     "metadata": {},
     "output_type": "execute_result"
    }
   ],
   "source": [
    "X_valid.shape"
   ]
  },
  {
   "cell_type": "code",
   "execution_count": 6,
   "id": "9d4afce1",
   "metadata": {},
   "outputs": [
    {
     "data": {
      "text/plain": [
       "(10000, 28, 28, 1)"
      ]
     },
     "execution_count": 6,
     "metadata": {},
     "output_type": "execute_result"
    }
   ],
   "source": [
    "X_test.shape"
   ]
  },
  {
   "cell_type": "markdown",
   "id": "5d8477f7",
   "metadata": {},
   "source": [
    "### Criação, treinamento e análise do modelo"
   ]
  },
  {
   "cell_type": "code",
   "execution_count": 7,
   "id": "453818f2",
   "metadata": {},
   "outputs": [],
   "source": [
    "tf.random.set_seed(42)  # Código extra – garante a reprodutibilidade\n",
    "DefaultConv2D = partial(tf.keras.layers.Conv2D, kernel_size=3, padding=\"same\",\n",
    "                        activation=\"relu\", kernel_initializer=\"he_normal\")\n",
    "model = tf.keras.Sequential([\n",
    "    DefaultConv2D(filters=64, kernel_size=7, input_shape=[28, 28, 1]),\n",
    "    tf.keras.layers.MaxPool2D(),\n",
    "    DefaultConv2D(filters=128),\n",
    "    DefaultConv2D(filters=128),\n",
    "    tf.keras.layers.MaxPool2D(),\n",
    "    DefaultConv2D(filters=256),\n",
    "    DefaultConv2D(filters=256),\n",
    "    tf.keras.layers.MaxPool2D(),\n",
    "    tf.keras.layers.Flatten(),\n",
    "    tf.keras.layers.Dense(units=128, activation=\"relu\",\n",
    "                          kernel_initializer=\"he_normal\"),\n",
    "    tf.keras.layers.Dropout(0.5),\n",
    "    tf.keras.layers.Dense(units=64, activation=\"relu\",\n",
    "                          kernel_initializer=\"he_normal\"),\n",
    "    tf.keras.layers.Dropout(0.5),\n",
    "    tf.keras.layers.Dense(units=10, activation=\"softmax\")\n",
    "])"
   ]
  },
  {
   "cell_type": "code",
   "execution_count": 8,
   "id": "b77c7bbf",
   "metadata": {},
   "outputs": [
    {
     "name": "stdout",
     "output_type": "stream",
     "text": [
      "Epoch 1/10\n",
      "1563/1563 [==============================] - 350s 221ms/step - loss: 0.7640 - accuracy: 0.7321 - val_loss: 0.3642 - val_accuracy: 0.8672\n",
      "Epoch 2/10\n",
      "1563/1563 [==============================] - 355s 227ms/step - loss: 0.4235 - accuracy: 0.8570 - val_loss: 0.3099 - val_accuracy: 0.8885\n",
      "Epoch 3/10\n",
      "1563/1563 [==============================] - 364s 233ms/step - loss: 0.3567 - accuracy: 0.8797 - val_loss: 0.3160 - val_accuracy: 0.8869\n",
      "Epoch 4/10\n",
      "1563/1563 [==============================] - 368s 236ms/step - loss: 0.3213 - accuracy: 0.8906 - val_loss: 0.2869 - val_accuracy: 0.8921\n",
      "Epoch 5/10\n",
      "1563/1563 [==============================] - 715s 457ms/step - loss: 0.2928 - accuracy: 0.9029 - val_loss: 0.2558 - val_accuracy: 0.9076\n",
      "Epoch 6/10\n",
      "1563/1563 [==============================] - 355s 227ms/step - loss: 0.2711 - accuracy: 0.9077 - val_loss: 0.2924 - val_accuracy: 0.8988\n",
      "Epoch 7/10\n",
      "1563/1563 [==============================] - 544s 348ms/step - loss: 0.2587 - accuracy: 0.9125 - val_loss: 0.2657 - val_accuracy: 0.9083\n",
      "Epoch 8/10\n",
      "1563/1563 [==============================] - 586s 375ms/step - loss: 0.2448 - accuracy: 0.9173 - val_loss: 0.2896 - val_accuracy: 0.9066\n",
      "Epoch 9/10\n",
      "1563/1563 [==============================] - 360s 230ms/step - loss: 0.2283 - accuracy: 0.9219 - val_loss: 0.2645 - val_accuracy: 0.9126\n",
      "Epoch 10/10\n",
      "1563/1563 [==============================] - 360s 230ms/step - loss: 0.2162 - accuracy: 0.9271 - val_loss: 0.3142 - val_accuracy: 0.8902\n"
     ]
    }
   ],
   "source": [
    "# Código extra – compila, ajusta, avalia e usa o modelo para fazer previsões\n",
    "model.compile(loss=\"sparse_categorical_crossentropy\", optimizer=\"nadam\",\n",
    "              metrics=[\"accuracy\"])\n",
    "\n",
    "model_log = model.fit(X_train, y_train, epochs=10,\n",
    "                      validation_data=(X_valid, y_valid))"
   ]
  },
  {
   "cell_type": "code",
   "execution_count": 9,
   "id": "bbba199f",
   "metadata": {},
   "outputs": [
    {
     "name": "stdout",
     "output_type": "stream",
     "text": [
      "313/313 [==============================] - 17s 56ms/step - loss: 0.3472 - accuracy: 0.8873\n",
      "Test loss: 0.34716230630874634\n",
      "Test accuracy: 0.8873000144958496\n"
     ]
    }
   ],
   "source": [
    "score = model.evaluate(X_test, y_test)\n",
    "print('Test loss:', score[0]) \n",
    "print('Test accuracy:', score[1])"
   ]
  },
  {
   "cell_type": "code",
   "execution_count": 10,
   "id": "2040e8ca",
   "metadata": {},
   "outputs": [
    {
     "name": "stdout",
     "output_type": "stream",
     "text": [
      "313/313 [==============================] - 18s 55ms/step\n"
     ]
    }
   ],
   "source": [
    "predicted_cnn = model.predict(X_test)"
   ]
  },
  {
   "cell_type": "code",
   "execution_count": 11,
   "id": "8afdc077",
   "metadata": {},
   "outputs": [
    {
     "data": {
      "text/plain": [
       "array([2.0529361e-21, 9.8277958e-23, 2.1756843e-19, 3.9398543e-17,\n",
       "       4.7991368e-17, 2.9110842e-10, 1.7035654e-16, 5.1966785e-05,\n",
       "       2.2748857e-18, 9.9994802e-01], dtype=float32)"
      ]
     },
     "execution_count": 11,
     "metadata": {},
     "output_type": "execute_result"
    }
   ],
   "source": [
    "predicted_cnn[0]"
   ]
  },
  {
   "cell_type": "code",
   "execution_count": 12,
   "id": "66cfce5c",
   "metadata": {},
   "outputs": [
    {
     "data": {
      "text/plain": [
       "9"
      ]
     },
     "execution_count": 12,
     "metadata": {},
     "output_type": "execute_result"
    }
   ],
   "source": [
    "np.argmax(predicted_cnn[0])"
   ]
  },
  {
   "cell_type": "code",
   "execution_count": 17,
   "id": "9f4f0567",
   "metadata": {},
   "outputs": [
    {
     "data": {
      "image/png": "[encoded data removed]",
      "text/plain": [
       "<Figure size 432x288 with 2 Axes>"
      ]
     },
     "execution_count": 17,
     "metadata": {},
     "output_type": "execute_result"
    },
    {
     "data": {
      "image/png": "[encoded data removed]",
      "text/plain": [
       "<Figure size 432x288 with 2 Axes>"
      ]
     },
     "metadata": {
      "needs_background": "light"
     },
     "output_type": "display_data"
    }
   ],
   "source": [
    "# Avaliação da acurácia e das perdas ao decorrer das épocas\n",
    "fig = plt.figure()\n",
    "plt.subplot(2,1,1)\n",
    "plt.plot(model_log.history['accuracy'])\n",
    "plt.plot(model_log.history['val_accuracy'])\n",
    "plt.title('model accuracy')\n",
    "plt.ylabel('accuracy')\n",
    "plt.xlabel('epoch')\n",
    "plt.legend(['train', 'test'], loc='lower right')\n",
    "plt.subplot(2,1,2)\n",
    "plt.plot(model_log.history['loss'])\n",
    "plt.plot(model_log.history['val_loss'])\n",
    "plt.title('model loss')\n",
    "plt.ylabel('loss')\n",
    "plt.xlabel('epoch')\n",
    "plt.legend(['train', 'test'], loc='upper right')\n",
    "plt.tight_layout()\n",
    "fig"
   ]
  },
  {
   "cell_type": "markdown",
   "id": "6bc43f31",
   "metadata": {},
   "source": [
    "O modelo apresentou bom desempenho, mas outros modelos, como KNN e Multilayer Perceptron apresentaram maior acurácia na avaliação."
   ]
  }
 ],
 "metadata": {
  "kernelspec": {
   "display_name": "Python 3 (ipykernel)",
   "language": "python",
   "name": "python3"
  },
  "language_info": {
   "codemirror_mode": {
    "name": "ipython",
    "version": 3
   },
   "file_extension": ".py",
   "mimetype": "text/x-python",
   "name": "python",
   "nbconvert_exporter": "python",
   "pygments_lexer": "ipython3",
   "version": "3.10.5"
  }
 },
 "nbformat": 4,
 "nbformat_minor": 5
}
